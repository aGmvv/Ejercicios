{
 "cells": [
  {
   "cell_type": "markdown",
   "metadata": {},
   "source": [
    "## Ejercicios\n",
    "\n",
    "Responder las preguntas o completar las tareas indicadas en negrita debajo, utilizar el método indicado si aplica."
   ]
  },
  {
   "cell_type": "markdown",
   "metadata": {},
   "source": [
    "**¿Cuánto es 7 elevado a 4?**"
   ]
  },
  {
   "cell_type": "code",
   "execution_count": 1,
   "metadata": {},
   "outputs": [
    {
     "name": "stdout",
     "output_type": "stream",
     "text": [
      "2401\n"
     ]
    }
   ],
   "source": [
    "x = 7**4\n",
    "print(x)"
   ]
  },
  {
   "cell_type": "markdown",
   "metadata": {},
   "source": [
    "**Convertir este string:**\n",
    "\n",
    "s = \"Hola, Pedro ¿que tal?\"\n",
    "\n",
    "**en una lista.**"
   ]
  },
  {
   "cell_type": "code",
   "execution_count": 2,
   "metadata": {},
   "outputs": [
    {
     "data": {
      "text/plain": [
       "list"
      ]
     },
     "execution_count": 2,
     "metadata": {},
     "output_type": "execute_result"
    }
   ],
   "source": [
    "s = \"Hola, Pedro ¿que tal?\"\n",
    "lista = list(s)\n",
    "type(lista)"
   ]
  },
  {
   "cell_type": "markdown",
   "metadata": {},
   "source": [
    "**Dadas las variables:**\n",
    "\n",
    "planeta = \"Tierra\"\n",
    "diametro = 12742\n",
    "\n",
    "**Usar .format() para obtener el siguiente string:**\n",
    "\n",
    "*El diametro de la Tierra es 12742 kilometros.*"
   ]
  },
  {
   "cell_type": "code",
   "execution_count": 3,
   "metadata": {},
   "outputs": [
    {
     "name": "stdout",
     "output_type": "stream",
     "text": [
      "El diametro de la Tierra es 12742 Kilometros\n"
     ]
    }
   ],
   "source": [
    "planeta = \"Tierra\"\n",
    "diametro = 12742\n",
    "print(\"El diametro de la {} es {} Kilometros\".format(planeta, diametro))"
   ]
  },
  {
   "cell_type": "markdown",
   "metadata": {},
   "source": [
    "**Dada la siguiente lista, utilizar indexación para obtener la palabra \"hola\"**\n"
   ]
  },
  {
   "cell_type": "code",
   "execution_count": 4,
   "metadata": {},
   "outputs": [],
   "source": [
    "lst = [1,2,[3,4],[5,[100,200,['hola']],23,11],1,7]"
   ]
  },
  {
   "cell_type": "code",
   "execution_count": 8,
   "metadata": {},
   "outputs": [
    {
     "name": "stdout",
     "output_type": "stream",
     "text": [
      "['hola']\n"
     ]
    }
   ],
   "source": [
    "print(lst[3][1][2])"
   ]
  },
  {
   "cell_type": "markdown",
   "metadata": {},
   "source": [
    "**Dado el siguiente diccionario anidado, obtener la palabra \"hola\"**"
   ]
  },
  {
   "cell_type": "code",
   "execution_count": 10,
   "metadata": {},
   "outputs": [],
   "source": [
    "d = {'k1':[1,2,3,{'gracioso':['oh','no','engaño',{'destino':[1,2,3,'hola']}]}]}"
   ]
  },
  {
   "cell_type": "code",
   "execution_count": 20,
   "metadata": {},
   "outputs": [
    {
     "data": {
      "text/plain": [
       "'hola'"
      ]
     },
     "execution_count": 20,
     "metadata": {},
     "output_type": "execute_result"
    }
   ],
   "source": [
    "d['k1'][3]['gracioso'][3]['destino'][3]"
   ]
  },
  {
   "cell_type": "markdown",
   "metadata": {},
   "source": [
    "**¿Cúal es la principal diferencia entre una tupla y una lista?**"
   ]
  },
  {
   "cell_type": "markdown",
   "metadata": {},
   "source": [
    "* Si los elementos de una lista no se quieren modificar, una forma de prevenir errores es utilizar tuplas.\n",
    "\n",
    "* Una tupla, al ser un objeto inmutable, se puede emplear como clave en diccionarios (veremos diccionarios en breve)."
   ]
  },
  {
   "cell_type": "markdown",
   "metadata": {},
   "source": [
    "**Crear un programa que obtenga el dominio de una dirección de correo electrónico, por ejemplo:**\n",
    "\n",
    "*user@domain.com*\n",
    "\n",
    "**Por ejemplo, pasando 'user@domain.com' debería devolver 'domain.com'**"
   ]
  },
  {
   "cell_type": "code",
   "execution_count": 21,
   "metadata": {},
   "outputs": [],
   "source": [
    "email = 'user@domain.com'"
   ]
  },
  {
   "cell_type": "code",
   "execution_count": 29,
   "metadata": {},
   "outputs": [
    {
     "name": "stdout",
     "output_type": "stream",
     "text": [
      "El dominio de user@domain.com es domain.com.\n"
     ]
    }
   ],
   "source": [
    "_, dominio = email.split(\"@\")\n",
    "print(f\"El dominio de {email} es {dominio}.\")"
   ]
  },
  {
   "cell_type": "markdown",
   "metadata": {},
   "source": [
    "**Escribe un programa que devuelva True si la palabra 'perro' se encuentra contenida dentro del string suministrado. No te preocupes por contemplar todos los casos posibles, pero tener en cuenta mayúsculas y minúsculas'**"
   ]
  },
  {
   "cell_type": "code",
   "execution_count": 33,
   "metadata": {},
   "outputs": [
    {
     "name": "stdout",
     "output_type": "stream",
     "text": [
      "True\n"
     ]
    }
   ],
   "source": [
    "prueba = \"asdgavfdvafgaperroasgafa asgfadfvsdfbafhga\"\n",
    "valor = 'perro' in prueba\n",
    "\n",
    "if valor:\n",
    "    print(valor)\n",
    "else:\n",
    "    print(valor)"
   ]
  },
  {
   "cell_type": "markdown",
   "metadata": {},
   "source": [
    "**Utilizar una expersión lambda y el método filter() para filtrar las palabras de una lista que no comienzen con la letra 's'. Por ejemplo:**\n",
    "\n",
    "*secuencia = ['sarten', 'silla', 'gato', 'genial', 'pastilla']*\n",
    "\n",
    "**deberian filtrarse a:**\n",
    "\n",
    "*['sarten', 'silla']*"
   ]
  },
  {
   "cell_type": "code",
   "execution_count": 53,
   "metadata": {},
   "outputs": [
    {
     "data": {
      "text/plain": [
       "['sarten', 'silla']"
      ]
     },
     "execution_count": 53,
     "metadata": {},
     "output_type": "execute_result"
    }
   ],
   "source": [
    "secuencia = ['sarten', 'silla', 'gato', 'genial', 'pastilla']\n",
    "[palabra for palabra in secuencia if palabra[0] == 's']"
   ]
  },
  {
   "cell_type": "markdown",
   "metadata": {},
   "source": [
    "**Vas conduciendo y te pasas un poco de velocidad, un agente te detiene. Escribe un programa que devuelva uno de los 3 posibles resultados que nos dará el agente:**\n",
    "\n",
    "* Sin multa\n",
    "* Multa pequeña\n",
    "* Multa grande\n",
    "\n",
    "**Si la velocidad es 60km/h o menos, el resultado es 'Sin Multa'. Si la velocidad se encuentra entre 61 y 80 ambos inclusive el resultado es 'Multa Pequeña'. Para velocidades superiores a 81 el resultado siempre es 'Multa Grande'.**\n",
    "\n",
    "**Si resulta que hoy es tu cumpleaños, el agente hace la vista gorda y permite un incremento de 5km/h en el limite normal.**"
   ]
  },
  {
   "cell_type": "code",
   "execution_count": 56,
   "metadata": {},
   "outputs": [
    {
     "name": "stdout",
     "output_type": "stream",
     "text": [
      "Multa pequeña\n"
     ]
    }
   ],
   "source": [
    "velocidad = 81\n",
    "cumpleaños = \"27-12\"\n",
    "\n",
    "if cumpleaños == \"27-12\":\n",
    "    if velocidad <= 65:\n",
    "        print(\"Sin multa\")\n",
    "    elif velocidad > 65 and velocidad <= 85:\n",
    "        print(\"Multa pequeña\")\n",
    "    elif velocidad > 85:\n",
    "        print(\"Multa grande\")\n",
    "else:\n",
    "    if velocidad <= 60:\n",
    "        print(\"Sin multa\")\n",
    "    elif velocidad > 60 and velocidad <= 80:\n",
    "        print(\"Multa pequeña\")\n",
    "    elif velocidad > 80:\n",
    "        print(\"Multa grande\")\n"
   ]
  },
  {
   "cell_type": "markdown",
   "metadata": {},
   "source": [
    "**Escribir un programa que acepta una frase como entrada y calcula el numero de letras y digitos contenidos en esta**\n",
    "\n",
    "Por simpleza, no considerar espacios en blanco ni carácteres especiales.\n",
    "\n",
    "Por ejemplo, si recibimos:\n",
    "\n",
    "'Hola Mundo, 123!'\n",
    "\n",
    "La salida deberia ser:\n",
    "\n",
    "Letras: 9\n",
    "Digitos: 3"
   ]
  },
  {
   "cell_type": "code",
   "execution_count": 61,
   "metadata": {},
   "outputs": [
    {
     "name": "stdout",
     "output_type": "stream",
     "text": [
      "Letras: 9 Digitos: 3.\n"
     ]
    }
   ],
   "source": [
    "frase = \"Hola Mundo, 123!\"\n",
    "num_numeros = 0\n",
    "num_letras = 0\n",
    "for i in frase1:\n",
    "    if i.isdigit():\n",
    "        num_numeros += 1\n",
    "    if i.isalpha():\n",
    "        num_letras += 1\n",
    "\n",
    "print(f\"Letras: {num_letras} Digitos: {num_numeros}.\")"
   ]
  }
 ],
 "metadata": {
  "celltoolbar": "Hide code",
  "kernelspec": {
   "display_name": "Python 3 (ipykernel)",
   "language": "python",
   "name": "python3"
  },
  "language_info": {
   "codemirror_mode": {
    "name": "ipython",
    "version": 3
   },
   "file_extension": ".py",
   "mimetype": "text/x-python",
   "name": "python",
   "nbconvert_exporter": "python",
   "pygments_lexer": "ipython3",
   "version": "3.9.13"
  }
 },
 "nbformat": 4,
 "nbformat_minor": 1
}
